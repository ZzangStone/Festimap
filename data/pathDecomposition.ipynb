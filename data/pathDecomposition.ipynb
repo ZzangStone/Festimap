{
 "cells": [
  {
   "cell_type": "code",
   "execution_count": 3,
   "metadata": {},
   "outputs": [
    {
     "name": "stderr",
     "output_type": "stream",
     "text": [
      "경로 처리 중: 100%|████████████████████████████████████████████████████████████████████| 7774/7774 [01:13<00:00, 105.73it/s]\n"
     ]
    },
    {
     "name": "stdout",
     "output_type": "stream",
     "text": [
      "경로 분해 완료! 파일 저장됨: 경로분해_4.csv\n"
     ]
    }
   ],
   "source": [
    "import requests\n",
    "import pandas as pd\n",
    "from tqdm import tqdm  # 진행 상황 표시\n",
    "\n",
    "# OSRM 서버 URL\n",
    "osrm_url = \"http://localhost:5000/route/v1/walking/{},{};{},{}?overview=full&geometries=geojson\"\n",
    "\n",
    "# 좌표별로 경로를 요청하고 노드를 가져오는 함수\n",
    "def get_route(departure_x, departure_y, arrival_x, arrival_y):\n",
    "    try:\n",
    "        # URL 구성\n",
    "        url = osrm_url.format(departure_x, departure_y, arrival_x, arrival_y)\n",
    "        response = requests.get(url)\n",
    "        data = response.json()\n",
    "        if 'routes' in data and len(data['routes']) > 0:\n",
    "            return data['routes'][0]['geometry']['coordinates']  # 경로의 노드 좌표\n",
    "        else:\n",
    "            return None\n",
    "    except Exception as e:\n",
    "        print(f\"Error retrieving route: {e}\")\n",
    "        return None\n",
    "\n",
    "# 경로를 분해하여 pandas로 처리 후 새로운 CSV로 저장하는 함수\n",
    "def save_routes_with_full_info_pandas(file_paths, output_files):\n",
    "    for file_path, output_file in zip(file_paths, output_files):\n",
    "        print(f\"처리 중: {file_path} -> {output_file}\")\n",
    "        \n",
    "        # CSV 파일 불러오기\n",
    "        data = pd.read_csv(file_path)\n",
    "\n",
    "        # 출발 및 도착 좌표가 유효한 행만 필터링\n",
    "        valid_data = data.dropna(subset=['DPR_X_AXIS_WGS', 'DPR_Y_AXIS_WGS', 'ARV_X_AXIS_WGS', 'ARV_Y_AXIS_WGS'])\n",
    "\n",
    "        all_segments = []\n",
    "\n",
    "        # tqdm을 사용하여 진행 상황을 표시하면서 각 데이터에 대해 경로를 가져옴\n",
    "        for index, row in tqdm(valid_data.iterrows(), total=valid_data.shape[0], desc=f\"{file_path} 경로 처리 중\"):\n",
    "            route = get_route(row['DPR_X_AXIS_WGS'], row['DPR_Y_AXIS_WGS'], row['ARV_X_AXIS_WGS'], row['ARV_Y_AXIS_WGS'])\n",
    "            if route:\n",
    "                # 경로의 각 구간을 (A->B, B->C) 형식으로 분해하여 리스트에 추가\n",
    "                for i in range(len(route) - 1):\n",
    "                    segment = {\n",
    "                        '출발시간': row['DPR_MT10_UNIT_TM'],\n",
    "                        '유동인구': row['POPL_CNT'],\n",
    "                        '노드X좌표': route[i][0],\n",
    "                        '노드Y좌표': route[i][1],\n",
    "                        '다음노드X좌표': route[i+1][0],\n",
    "                        '다음노드Y좌표': route[i+1][1]\n",
    "                    }\n",
    "                    all_segments.append(segment)\n",
    "\n",
    "        # 분해된 경로를 pandas DataFrame으로 변환\n",
    "        segments_df = pd.DataFrame(all_segments)\n",
    "\n",
    "        # 새로운 CSV 파일로 저장\n",
    "        segments_df.to_csv(output_file, index=False)\n",
    "        print(f\"파일 저장 완료: {output_file}\")\n",
    "\n",
    "# 지역별 파일 경로 및 출력 파일 경로 설정\n",
    "file_paths = [\n",
    "    r'C:\\Users\\pc10\\경로분해\\1번지역.csv',\n",
    "    r'C:\\Users\\pc10\\경로분해\\2번지역.csv',\n",
    "    r'C:\\Users\\pc10\\경로분해\\3번지역.csv',\n",
    "    r'C:\\Users\\pc10\\경로분해\\4번지역.csv'\n",
    "]\n",
    "\n",
    "output_files = [\n",
    "    r'C:\\Users\\pc10\\경로분해\\경로분해_1.csv',\n",
    "    r'C:\\Users\\pc10\\경로분해\\경로분해_2.csv',\n",
    "    r'C:\\Users\\pc10\\경로분해\\경로분해_3.csv',\n",
    "    r'C:\\Users\\pc10\\경로분해\\경로분해_4.csv'\n",
    "]\n",
    "\n",
    "# 처리 실행\n",
    "save_routes_with_full_info_pandas(file_paths, output_files)\n",
    "\n",
    "print(\"모든 지역 경로 분해 완료!\")\n"
   ]
  },
  {
   "cell_type": "code",
   "execution_count": null,
   "metadata": {},
   "outputs": [],
   "source": []
  }
 ],
 "metadata": {
  "kernelspec": {
   "display_name": "Python 3",
   "language": "python",
   "name": "python3"
  },
  "language_info": {
   "codemirror_mode": {
    "name": "ipython",
    "version": 3
   },
   "file_extension": ".py",
   "mimetype": "text/x-python",
   "name": "python",
   "nbconvert_exporter": "python",
   "pygments_lexer": "ipython3",
   "version": "3.7.4"
  }
 },
 "nbformat": 4,
 "nbformat_minor": 2
}
