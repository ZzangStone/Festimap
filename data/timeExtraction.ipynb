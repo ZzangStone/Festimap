{
  "nbformat": 4,
  "nbformat_minor": 0,
  "metadata": {
    "colab": {
      "provenance": []
    },
    "kernelspec": {
      "name": "python3",
      "display_name": "Python 3"
    },
    "language_info": {
      "name": "python"
    }
  },
  "cells": [
    {
      "cell_type": "markdown",
      "source": [
        "## 시간대 별 유동인구"
      ],
      "metadata": {
        "id": "J7VXHSF6tduK"
      }
    },
    {
      "cell_type": "code",
      "execution_count": null,
      "metadata": {
        "id": "JH0V54fPtaHY"
      },
      "outputs": [],
      "source": [
        "import pandas as pd\n",
        "import matplotlib.pyplot as plt\n",
        "from matplotlib import rcdefaults\n",
        "\n",
        "# matplotlib 기본 설정으로 초기화\n",
        "rcdefaults()\n",
        "\n",
        "# CSV 파일 읽기\n",
        "file_path = \"/content/drive/MyDrive/여의도_불꽃축제_데이터/메인경로/1번.csv\"  # CSV 파일 경로를 설정하세요.\n",
        "df = pd.read_csv(file_path)\n",
        "\n",
        "# 출발시간을 datetime 형식으로 변환\n",
        "df['출발시간'] = pd.to_datetime(df['출발시간'])\n",
        "\n",
        "# 출발시간별 유동인구 합계 계산\n",
        "df_grouped = df.groupby('출발시간')['유동인구'].sum().reset_index()\n",
        "\n",
        "# 시간 형식만 추출하여 새로운 열 추가\n",
        "df_grouped['시간'] = df_grouped['출발시간'].dt.strftime('%H:%M')\n",
        "\n",
        "# 시계열 그래프 그리기\n",
        "plt.figure(figsize=(12, 6))\n",
        "plt.plot(df_grouped['시간'], df_grouped['유동인구'], marker='o', linestyle='-', linewidth=2, label='Population')\n",
        "plt.fill_between(df_grouped['시간'], df_grouped['유동인구'], alpha=0.2)  # 그래프 아래 색상 칠하기\n",
        "\n",
        "# x축 레이블 간격 설정\n",
        "plt.xticks(df_grouped['시간'][::5], rotation=45)  # 5개 간격으로 표시\n",
        "\n",
        "plt.grid(True)\n",
        "plt.tight_layout()\n",
        "plt.legend()\n",
        "\n",
        "# 그래프 보여주기\n",
        "plt.show()\n"
      ]
    },
    {
      "cell_type": "markdown",
      "source": [
        "## 시간대 별 유동인구 변화량"
      ],
      "metadata": {
        "id": "dE5-xIUbtgpp"
      }
    },
    {
      "cell_type": "code",
      "source": [
        "import pandas as pd\n",
        "import matplotlib.pyplot as plt\n",
        "from matplotlib import rcdefaults\n",
        "\n",
        "# matplotlib 기본 설정으로 초기화\n",
        "rcdefaults()\n",
        "\n",
        "# CSV 파일 읽기\n",
        "file_path = \"/content/drive/MyDrive/여의도_불꽃축제_데이터/메인경로/1번.csv\"  # CSV 파일 경로를 설정하세요.\n",
        "df = pd.read_csv(file_path)\n",
        "\n",
        "# 출발시간을 datetime 형식으로 변환\n",
        "df['출발시간'] = pd.to_datetime(df['출발시간'])\n",
        "\n",
        "# 출발시간별 유동인구 합계 계산\n",
        "df_grouped = df.groupby('출발시간')['유동인구'].sum().reset_index()\n",
        "\n",
        "# 시간 형식만 추출하여 새로운 열 추가\n",
        "df_grouped['시간'] = df_grouped['출발시간'].dt.strftime('%H:%M')\n",
        "\n",
        "# 유동인구 변화량 계산 (이전 시간대와의 차이)\n",
        "df_grouped['유동인구 변화량'] = df_grouped['유동인구'].diff()\n",
        "\n",
        "# 가장 큰 변화량 찾기 (증가/감소 절대값 포함)\n",
        "max_abs_change_row = df_grouped.loc[df_grouped['유동인구 변화량'].abs().idxmax()]\n",
        "\n",
        "# 시계열 그래프 그리기 (변화량)\n",
        "plt.figure(figsize=(12, 6))\n",
        "plt.plot(df_grouped['시간'], df_grouped['유동인구 변화량'], marker='o', linestyle='-', linewidth=2, label='Population Change')\n",
        "plt.axhline(0, color='gray', linestyle='--', linewidth=1)  # 기준선 추가\n",
        "plt.fill_between(df_grouped['시간'], df_grouped['유동인구 변화량'], where=(df_grouped['유동인구 변화량'] >= 0),\n",
        "                 interpolate=True, alpha=0.2, color='blue', label='Increase')\n",
        "plt.fill_between(df_grouped['시간'], df_grouped['유동인구 변화량'], where=(df_grouped['유동인구 변화량'] < 0),\n",
        "                 interpolate=True, alpha=0.2, color='red', label='Decrease')\n",
        "\n",
        "# 가장 큰 변화량에 세로선 추가\n",
        "plt.axvline(x=max_abs_change_row['시간'], color='orange', linestyle='--', linewidth=2, label='Max Change Line')\n",
        "\n",
        "# 가장 큰 변화량에 텍스트 표시\n",
        "plt.text(max_abs_change_row['시간'], max_abs_change_row['유동인구 변화량'],\n",
        "         f\"Max Change\\n{max_abs_change_row['시간']}\\n{max_abs_change_row['유동인구 변화량']:.0f}\",\n",
        "         color='orange', fontsize=12, fontweight='bold', ha='center', va='bottom', bbox=dict(facecolor='white', alpha=0.8))\n",
        "\n",
        "# x축 레이블 간격 설정\n",
        "plt.xticks(df_grouped['시간'][::5], rotation=45)  # 5개 간격으로 표시\n",
        "\n",
        "# 제목과 축 레이블\n",
        "plt.xlabel(\"Time\")\n",
        "plt.ylabel(\"Population Change\")\n",
        "plt.grid(True)\n",
        "plt.tight_layout()\n",
        "plt.legend()\n",
        "\n",
        "# 그래프 보여주기\n",
        "plt.show()\n",
        "\n",
        "# 가장 큰 변화량 데이터 출력\n",
        "print(\"가장 큰 변화량 시간:\")\n",
        "print(max_abs_change_row)\n"
      ],
      "metadata": {
        "id": "nCmnv8uZtqGB"
      },
      "execution_count": null,
      "outputs": []
    }
  ]
}