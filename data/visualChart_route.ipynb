{
  "nbformat": 4,
  "nbformat_minor": 0,
  "metadata": {
    "colab": {
      "provenance": []
    },
    "kernelspec": {
      "name": "python3",
      "display_name": "Python 3"
    },
    "language_info": {
      "name": "python"
    }
  },
  "cells": [
    {
      "cell_type": "markdown",
      "source": [
        "## 밀집 시각도"
      ],
      "metadata": {
        "id": "AWL-QKd3uAza"
      }
    },
    {
      "cell_type": "code",
      "execution_count": null,
      "metadata": {
        "id": "QcLe5EgQt-jf"
      },
      "outputs": [],
      "source": [
        "# 필요한 라이브러리 설치\n",
        "\n",
        "\n",
        "# 라이브러리 가져오기\n",
        "import pandas as pd\n",
        "import folium\n",
        "from matplotlib.colors import Normalize, LinearSegmentedColormap, to_hex\n",
        "from IPython.display import display, HTML\n",
        "\n",
        "# CSV 파일 읽기\n",
        "csv_file_path = \"/content/drive/MyDrive/output_grouped.csv\"\n",
        "data = pd.read_csv(csv_file_path)\n",
        "\n",
        "# 동일 경로에 대한 유동인구 합산 처리\n",
        "data['경로'] = data.apply(lambda row: (row['노드X좌표'], row['노드Y좌표'], row['다음노드X좌표'], row['다음노드Y좌표']), axis=1)\n",
        "aggregated_data = data.groupby('경로')['유동인구'].sum().reset_index()\n",
        "\n",
        "# 경로를 분리하여 다시 DataFrame에 추가\n",
        "aggregated_data[['노드X좌표', '노드Y좌표', '다음노드X좌표', '다음노드Y좌표']] = pd.DataFrame(aggregated_data['경로'].tolist(), index=aggregated_data.index)\n",
        "\n",
        "# 맵 중심 설정 (첫 번째 노드의 좌표를 기준으로)\n",
        "map_center = [data['노드Y좌표'][0], data['노드X좌표'][0]]\n",
        "map_ = folium.Map(location=map_center, zoom_start=15)\n",
        "\n",
        "# 새로운 컬러맵 생성: 연한 빨강에서 진한 빨강으로\n",
        "reds_cmap = LinearSegmentedColormap.from_list(\"CustomReds\", [\"#FFCCCC\", \"#FF6666\", \"#CC0000\"])\n",
        "\n",
        "# 유동인구 값을 정규화하여 색상 설정\n",
        "norm = Normalize(vmin=aggregated_data['유동인구'].quantile(0.13), vmax=aggregated_data['유동인구'].quantile(0.95))\n",
        "\n",
        "# 경로를 지도에 추가\n",
        "for _, row in aggregated_data.iterrows():\n",
        "    start_coords = [row['노드Y좌표'], row['노드X좌표']]\n",
        "    end_coords = [row['다음노드Y좌표'], row['다음노드X좌표']]\n",
        "    flow = row['유동인구']\n",
        "\n",
        "    # 유동인구에 따라 색상 설정\n",
        "    rgba_color = reds_cmap(norm(flow))  # 정규화된 값을 컬러맵에 매핑\n",
        "    hex_color = to_hex(rgba_color)  # RGBA -> HEX 변환\n",
        "\n",
        "    # 지도에 선 추가\n",
        "    folium.PolyLine(\n",
        "        locations=[start_coords, end_coords],\n",
        "        color=hex_color,\n",
        "        weight=5,  # 선의 두께\n",
        "        tooltip=f\"유동인구: {flow}\"\n",
        "    ).add_to(map_)\n",
        "\n",
        "# 지도를 Colab에서 바로 표시\n",
        "display(HTML(map_._repr_html_()))\n"
      ]
    },
    {
      "cell_type": "markdown",
      "source": [
        "## 안전 시각도"
      ],
      "metadata": {
        "id": "uSpyiQ_BuDPR"
      }
    },
    {
      "cell_type": "code",
      "source": [
        "# 필요한 라이브러리 설치\n",
        "!pip install folium matplotlib\n",
        "\n",
        "# 라이브러리 가져오기\n",
        "import pandas as pd\n",
        "import folium\n",
        "from matplotlib.colors import Normalize, LinearSegmentedColormap, to_hex\n",
        "from IPython.display import display, HTML\n",
        "\n",
        "# CSV 파일 읽기\n",
        "csv_file_path = \"/content/drive/MyDrive/output_grouped.csv\"\n",
        "data = pd.read_csv(csv_file_path)\n",
        "\n",
        "# 동일 경로에 대한 유동인구 합산 처리\n",
        "data['경로'] = data.apply(lambda row: (row['노드X좌표'], row['노드Y좌표'], row['다음노드X좌표'], row['다음노드Y좌표']), axis=1)\n",
        "aggregated_data = data.groupby('경로')['유동인구'].sum().reset_index()\n",
        "\n",
        "# 경로를 분리하여 다시 DataFrame에 추가\n",
        "aggregated_data[['노드X좌표', '노드Y좌표', '다음노드X좌표', '다음노드Y좌표']] = pd.DataFrame(aggregated_data['경로'].tolist(), index=aggregated_data.index)\n",
        "\n",
        "# 맵 중심 설정 (첫 번째 노드의 좌표를 기준으로)\n",
        "map_center = [data['노드Y좌표'][0], data['노드X좌표'][0]]\n",
        "map_ = folium.Map(location=map_center, zoom_start=15)\n",
        "\n",
        "# 새로운 컬러맵 생성: 초록 -> 노랑 -> 빨강\n",
        "green_yellow_red_cmap = LinearSegmentedColormap.from_list(\"CustomGreenYellowRed\", [\"#33CC33\", \"#FFCC00\", \"#FF0000\"])\n",
        "\n",
        "# 유동인구 값을 정규화하여 색상 설정\n",
        "norm = Normalize(vmin=aggregated_data['유동인구'].quantile(0.1), vmax=aggregated_data['유동인구'].quantile(0.9))\n",
        "\n",
        "# 경로를 지도에 추가\n",
        "for _, row in aggregated_data.iterrows():\n",
        "    start_coords = [row['노드Y좌표'], row['노드X좌표']]\n",
        "    end_coords = [row['다음노드Y좌표'], row['다음노드X좌표']]\n",
        "    flow = row['유동인구']\n",
        "\n",
        "    # 유동인구에 따라 색상 설정\n",
        "    rgba_color = green_yellow_red_cmap(norm(flow))  # 정규화된 값을 컬러맵에 매핑\n",
        "    hex_color = to_hex(rgba_color)  # RGBA -> HEX 변환\n",
        "\n",
        "    # 지도에 선 추가\n",
        "    folium.PolyLine(\n",
        "        locations=[start_coords, end_coords],\n",
        "        color=hex_color,\n",
        "        weight=5,  # 선의 두께\n",
        "        tooltip=f\"유동인구: {flow}\"\n",
        "    ).add_to(map_)\n",
        "\n",
        "# 지도를 Colab에서 바로 표시\n",
        "display(HTML(map_._repr_html_()))\n"
      ],
      "metadata": {
        "id": "1TEHH1sfurdy"
      },
      "execution_count": null,
      "outputs": []
    }
  ]
}