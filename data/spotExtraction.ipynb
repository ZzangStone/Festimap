{
  "nbformat": 4,
  "nbformat_minor": 0,
  "metadata": {
    "colab": {
      "provenance": []
    },
    "kernelspec": {
      "name": "python3",
      "display_name": "Python 3"
    },
    "language_info": {
      "name": "python"
    }
  },
  "cells": [
    {
      "cell_type": "markdown",
      "source": [
        "## 스팟 추출"
      ],
      "metadata": {
        "id": "8TfjQI4wxKxi"
      }
    },
    {
      "cell_type": "code",
      "execution_count": null,
      "metadata": {
        "id": "EPBCvDXQxJ2q"
      },
      "outputs": [],
      "source": [
        "import pandas as pd\n",
        "from sklearn.preprocessing import MinMaxScaler\n",
        "\n",
        "# 위험 요소와 가중치 데이터\n",
        "risk_weights = {\n",
        "    \"경사로\": 0.124,\n",
        "    \"보도 폭\": 0.167,\n",
        "    \"공사 현장\": 0.042,\n",
        "    \"상업구역\": 0.148,\n",
        "    \"유동인구\": 0.185,\n",
        "    \"갈림길\": 0.029\n",
        "}\n",
        "\n",
        "# CSV 파일 경로를 지정\n",
        "file_path = '유동인구_위험요인_추가.csv'\n",
        "\n",
        "# CSV 파일 읽기\n",
        "df = pd.read_csv(file_path)\n",
        "\n",
        "# 위험 요소 선택\n",
        "risk_columns = list(risk_weights.keys())\n",
        "risk_data = df[risk_columns]\n",
        "\n",
        "# 정규화\n",
        "scaler = MinMaxScaler()\n",
        "normalized_risk_data = scaler.fit_transform(risk_data)\n",
        "\n",
        "# 정규화된 데이터를 데이터프레임으로 변환\n",
        "normalized_df = pd.DataFrame(normalized_risk_data, columns=risk_columns)\n",
        "\n",
        "# 위험 점수 계산 함수 정의\n",
        "def calculate_risk(row):\n",
        "    total_risk = 0\n",
        "    for column in normalized_df.columns:\n",
        "        total_risk += row[column] * risk_weights[column]\n",
        "    return total_risk\n",
        "\n",
        "# 정규화된 데이터프레임에 위험 점수 계산 적용\n",
        "normalized_df['총 위험 점수'] = normalized_df.apply(calculate_risk, axis=1)\n",
        "\n",
        "# 원래 데이터에 총 위험 점수 병합\n",
        "df['총 위험 점수'] = normalized_df['총 위험 점수']\n",
        "\n",
        "# 위험 점수를 기준으로 내림차순 정렬하여 상위 10개 추출\n",
        "top_10_risks = df.sort_values(by='총 위험 점수', ascending=False).head(10)\n",
        "\n",
        "# 상위 10개 지역의 X좌표와 Y좌표 추출\n",
        "coordinates = top_10_risks[['X좌표', 'Y좌표', '총 위험 점수']]\n",
        "\n",
        "# 결과 출력\n",
        "import ace_tools as tools; tools.display_dataframe_to_user(name=\"위험한 상위 10개 지역의 좌표\", dataframe=coordinates)\n"
      ]
    }
  ]
}