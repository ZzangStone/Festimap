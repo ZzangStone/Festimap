{
  "nbformat": 4,
  "nbformat_minor": 0,
  "metadata": {
    "colab": {
      "provenance": []
    },
    "kernelspec": {
      "name": "python3",
      "display_name": "Python 3"
    },
    "language_info": {
      "name": "python"
    }
  },
  "cells": [
    {
      "cell_type": "markdown",
      "source": [
        "## 지역 추출"
      ],
      "metadata": {
        "id": "0B_YJ8JrsnZp"
      }
    },
    {
      "cell_type": "code",
      "execution_count": null,
      "metadata": {
        "id": "xj0m-saxsY8w"
      },
      "outputs": [],
      "source": [
        "import pandas as pd\n",
        "import numpy as np\n",
        "from scipy.spatial.distance import cdist\n",
        "\n",
        "# Load the CSV file\n",
        "df_original = pd.read_csv('/content/drive/MyDrive/여의도_불꽃축제_데이터/성별,연령,국적 통합 데이터/2024-10-05.csv')\n",
        "\n",
        "# Reference points with region names\n",
        "reference_points = [\n",
        "    (37.529714378403206, 126.93099129426616, '1번지역'),\n",
        "    (37.52657336296044, 126.93384449219988, '2번지역'),\n",
        "    (37.5234376670226, 126.93782909786222, '3번지역'),\n",
        "    (37.52255245794694, 126.94123076525138, '4번지역')\n",
        "]\n",
        "\n",
        "# Function to process each region\n",
        "def filter_and_save(df, reference_point, region_name):\n",
        "    # Preprocess the data (remove NaN and duplicates)\n",
        "    df = df.dropna(subset=['DPR_X_AXIS_WGS', 'DPR_Y_AXIS_WGS', 'ARV_X_AXIS_WGS', 'ARV_Y_AXIS_WGS'])\n",
        "    df = df.drop_duplicates(subset=['DPR_X_AXIS_WGS', 'DPR_Y_AXIS_WGS', 'ARV_X_AXIS_WGS', 'ARV_Y_AXIS_WGS'])\n",
        "\n",
        "    # Prepare reference coordinates\n",
        "    reference_coordinates = np.array([reference_point[:2]])\n",
        "\n",
        "    # Calculate distances using cdist\n",
        "    df['DPR_Distance'] = cdist(df[['DPR_Y_AXIS_WGS', 'DPR_X_AXIS_WGS']], reference_coordinates, metric='euclidean').flatten()\n",
        "    df['ARV_Distance'] = cdist(df[['ARV_Y_AXIS_WGS', 'ARV_X_AXIS_WGS']], reference_coordinates, metric='euclidean').flatten()\n",
        "\n",
        "    # Find the closest distance for each row\n",
        "    df['Closest_Distance'] = df[['DPR_Distance', 'ARV_Distance']].min(axis=1)\n",
        "\n",
        "    # Combine DPR and ARV coordinates into tuples\n",
        "    df['DPR_Coordinates'] = list(zip(df['DPR_Y_AXIS_WGS'], df['DPR_X_AXIS_WGS']))\n",
        "    df['ARV_Coordinates'] = list(zip(df['ARV_Y_AXIS_WGS'], df['ARV_X_AXIS_WGS']))\n",
        "\n",
        "    # Combine and deduplicate coordinates\n",
        "    all_coordinates = pd.concat([\n",
        "        df[['DPR_Coordinates', 'Closest_Distance']].rename(columns={'DPR_Coordinates': 'Coordinates'}),\n",
        "        df[['ARV_Coordinates', 'Closest_Distance']].rename(columns={'ARV_Coordinates': 'Coordinates'})\n",
        "    ])\n",
        "    unique_coords = all_coordinates.drop_duplicates(subset='Coordinates').sort_values(by='Closest_Distance')\n",
        "\n",
        "    # Select the top 25 closest unique coordinates\n",
        "    closest_25 = unique_coords.head(25)\n",
        "\n",
        "    # Reload the original DataFrame to retain all columns\n",
        "    df_reloaded = df_original.copy()\n",
        "\n",
        "    # Create coordinate sets for filtering\n",
        "    closest_coordinates_set = set(closest_25['Coordinates'])\n",
        "\n",
        "    # Filter rows based on the closest coordinates\n",
        "    df_reloaded['DPR_Coordinates'] = list(zip(df_reloaded['DPR_Y_AXIS_WGS'], df_reloaded['DPR_X_AXIS_WGS']))\n",
        "    df_reloaded['ARV_Coordinates'] = list(zip(df_reloaded['ARV_Y_AXIS_WGS'], df_reloaded['ARV_X_AXIS_WGS']))\n",
        "    filtered_df = df_reloaded[\n",
        "        df_reloaded['ARV_Coordinates'].isin(closest_coordinates_set)\n",
        "    ]\n",
        "\n",
        "    # Save the filtered DataFrame to a new CSV file\n",
        "    output_filename = f\"{region_name}.csv\"\n",
        "    filtered_df.drop(columns=['DPR_Coordinates', 'ARV_Coordinates']).to_csv(output_filename, index=False)\n",
        "    print(f\"Filtered data for {region_name} saved to '{output_filename}'\")\n",
        "\n",
        "# Apply the function for each reference point\n",
        "for point in reference_points:\n",
        "    filter_and_save(df_original.copy(), point, point[2])\n"
      ]
    }
  ]
}